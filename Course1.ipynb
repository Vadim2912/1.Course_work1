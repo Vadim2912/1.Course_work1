{
 "cells": [
  {
   "cell_type": "markdown",
   "metadata": {},
   "source": [
    "# Курсовая работа. Блок 1\n",
    "*Pandas и Matplotlib*\n",
    "\n",
    "**NB!** Код должен быть с комментариями к каждому логическому блоку кода. В противном случае работа **не** будет принята. <br><br>\n",
    "Выполнение курсовой работы может потребовать использование дополнительных библиотек. \n",
    "\n",
    "<br><br>\n",
    "**Описание работы:**\n",
    "\n",
    "Перед вами стоит бизнес-задача – на основании имеющихся данных подготовить аналитический отчет, который в дальнейшем поможет продюсерам образовательных программ эффективно выстраивать стратегию по модернизированию и улучшению курсов. В начале отчета предлагается оформить емкий описательный блок по каждому курсу на основании рассчитанных показателей. Далее предлагается посчитать потенциальную нагрузку на преподавателей, чтобы оценить необходимость расширения штата сотрудников. Затем идет блок из двух пунктов по анализу качества контента курсов, где необходимо выявить проблемные модули, которые, возможно, требуют доработки. Также стоит задача выявить потенциальную сезонность. Наконец, предложено задание для самостоятельной разработки метрики успеваемости студентов для нахождения тех, кто значительно хуже справляются с прохождением курса. Каждый из пунктов анализа предполагается сопроводить аналитическим выводом на основании рассчитанных метрик.\n",
    "\n",
    "<br><br>\n",
    "\n",
    "_________\n",
    "Обозначения:<br><br>\n",
    "&nbsp;&nbsp;&nbsp;&nbsp;**(p)** – задание может быть выполнено после прохождения модулей по Pandas <br>\n",
    "&nbsp;&nbsp;&nbsp;&nbsp;**(m)** – задание может быть выполнено после прохождения модуля по Matplotlib <br>\n",
    "&nbsp;&nbsp;&nbsp;&nbsp;⭐ – необязательное задание повышенной сложности\n",
    "_________\n",
    "\n",
    "[Codebook](#Codebook) <br>\n",
    "[1. Описание и начальная работа с данными](#1.1-Описание-и-начальная-работа-с-данными)<br>\n",
    "[2. Расчет потенциальной нагрузки на преподавателей](#2.-Расчет-потенциальной-нагрузки-на-преподавателей)<br>\n",
    "[3. Выявление проблемных модулей](#3.-Выявление-проблемных-модулей)<br>\n",
    "[4. Расчет конверсии](#4.-Расчет-конверсии) <br>\n",
    "[5. Метрика успеваемости ](#5.-Метрика-успеваемости)"
   ]
  },
  {
   "cell_type": "markdown",
   "metadata": {},
   "source": [
    "## Codebook\n",
    "\n",
    "`courses.csv` содержит следующие значения: <br><br>\n",
    "&nbsp;&nbsp;&nbsp;&nbsp; `id` – идентификатор курса <br>\n",
    "&nbsp;&nbsp;&nbsp;&nbsp; `title` – название курса <br>\n",
    "&nbsp;&nbsp;&nbsp;&nbsp;  `field` – сфера, к которой относится курс <br> <br><br>\n",
    "`students.csv` содержит следующие значения: <br><br>\n",
    "&nbsp;&nbsp;&nbsp;&nbsp; `id` – идентификатор студента <br>\n",
    "&nbsp;&nbsp;&nbsp;&nbsp; `city` – город студента <br>\n",
    "&nbsp;&nbsp;&nbsp;&nbsp;  `birthday` – день рождения студента <br> <br><br>\n",
    "`course_contents.csv` содержит следующие значения: <br><br>\n",
    "&nbsp;&nbsp;&nbsp;&nbsp; `course_id` – идентификатор курса <br>\n",
    "&nbsp;&nbsp;&nbsp;&nbsp; `module_number` – номер модуля <br>\n",
    "&nbsp;&nbsp;&nbsp;&nbsp;  `module_title` – название модуля <br> \n",
    "&nbsp;&nbsp;&nbsp;&nbsp; `lesson_number` – номер урока <br>\n",
    "&nbsp;&nbsp;&nbsp;&nbsp;  `lesson_title` – название урока <br>\n",
    "&nbsp;&nbsp;&nbsp;&nbsp;  `lesson_token` – токен урока <br> \n",
    "&nbsp;&nbsp;&nbsp;&nbsp; `is_video` – наличие видео *(true/false)* <br>\n",
    "&nbsp;&nbsp;&nbsp;&nbsp;  `is_homework` – наличие домашней работы *(true/false)* <br>\n",
    "<br><br>\n",
    "`progresses.csv` содержит следующие значения: <br><br>\n",
    "&nbsp;&nbsp;&nbsp;&nbsp; `id` – идентификатор прогресса <br>\n",
    "&nbsp;&nbsp;&nbsp;&nbsp; `student_id` – идентификатор студента <br>\n",
    "&nbsp;&nbsp;&nbsp;&nbsp;  `course_id` – идентификатор курса <br> <br><br>\n",
    "`progress_phases.csv` содержит следующие значения: <br><br>\n",
    "&nbsp;&nbsp;&nbsp;&nbsp; `progress_id` – идентификатор прогресса <br>\n",
    "&nbsp;&nbsp;&nbsp;&nbsp; `module_number` – номер модуля <br>\n",
    "&nbsp;&nbsp;&nbsp;&nbsp; `lesson_number` – номер урока <br>\n",
    "&nbsp;&nbsp;&nbsp;&nbsp;  `status` – статус прохождения урока <br>\n",
    "&nbsp;&nbsp;&nbsp;&nbsp;  `start_date` – дата начала <br> \n",
    "&nbsp;&nbsp;&nbsp;&nbsp; `finish_date` – дата окончания <br>\n",
    "<br><br>"
   ]
  },
  {
   "cell_type": "markdown",
   "metadata": {},
   "source": [
    "## 1. Описание и начальная работа с данными\n",
    "\n",
    "Вам необходимо подготовить данные и описать их. Данные реальные и содержат пропущенные значения, а также лишние относительно друг друга данные. <br>\n",
    "\n",
    "Объедините датасеты (кроме `students.scv`) в один общий для дальнейшей работы. Отдельный датасет создайте для расчета среднего возраста студентов курсов (отдельный датасет со `students.scv` нужен, чтобы в основном не потерять значения в основном датасете из-за того, что не по всем студентам есть анкетные данные о дате рождения). <br> <br>\n",
    "Опишите данные: <br>\n",
    "1. **(p)** Посчитайте\n",
    "      * общее количество курсов в датасете, \n",
    "      * количество модулей на каждом курсе, \n",
    "      * количество уроков в каждом модуле на каждом курсе, \n",
    "      * медианное количество уроков в модуле на каждом курсе, \n",
    "      * количество учеников на каждом курсе\n",
    "      * минимальный, максимальный, средний, медианный возраст студентов\n",
    "      * минимальный, максимальный, средний, медианный возраст студентов на каждом курсе\n",
    "2. **(m)** Постройте bar-chart, отражающий количество студентов на каждом курсе. Ticks нужно развернуть так, чтобы они были читаемы\n",
    "3. **(m)** Постройте горизонтальный (столбцы должны располагаться горизонтально) bar-chart, отражающий количество студентов на каждом курсе. График должен иметь заголовок. Значения должны быть отсортированы. Цвет столбцов должен содержать информацию о сфере, к которой относится курс (то есть нужна легенда). Прозрачность должна стоять на отметке 0.1. На график должна быть нанесена линия медианы. У медианы должен быть свой цвет. Рамки у графика быть не должно ⭐\n",
    "4.     На основании рассчитанных значений опишите данные (описание должно быть полным и покрывать все полученные выше метрики)\n",
    "\n",
    "_____________________________________________________________________\n"
   ]
  },
  {
   "cell_type": "markdown",
   "metadata": {},
   "source": [
    "Для того, чтобы проверить, что вы правильно соединили все датасеты в основной (без `students.csv`), запустите аналогичный приведенному ниже запрос. Выдача должна совпадать. Имейте в виду, что названия некоторых столбцов были переименованы."
   ]
  },
  {
   "cell_type": "code",
   "execution_count": 13,
   "metadata": {
    "pycharm": {
     "is_executing": false
    }
   },
   "outputs": [],
   "source": [
    "# main[main.student_id == '768c2987a744c51ce64a5993a2a94eaf'] # проверка основного датасета"
   ]
  },
  {
   "cell_type": "code",
   "execution_count": 14,
   "metadata": {
    "pycharm": {
     "is_executing": false
    }
   },
   "outputs": [],
   "source": [
    "import pandas as pd\n",
    "import numpy as np\n",
    "from datetime import datetime, date, timedelta\n",
    "import math\n",
    "import matplotlib.pyplot as plt\n",
    "import matplotlib.patches as mpatches\n",
    "import matplotlib.dates as mdates\n",
    "%matplotlib inline"
   ]
  },
  {
   "cell_type": "code",
   "execution_count": 15,
   "metadata": {
    "pycharm": {
     "is_executing": false,
     "name": "#%%\n"
    }
   },
   "outputs": [],
   "source": [
    "# ПОДГОТОВКА ДАННЫХ\n",
    "\n",
    "data = dict() # словарь содержащий стартовые наборы данных\n",
    "files_names = ['courses', 'students', 'progress_phases', 'progresses', 'course_contents']\n",
    "file_path = './Data/'\n",
    "\n",
    "# считываем каждый датафрейм в словарь\n",
    "for file_name in files_names:\n",
    "    data[file_name] = pd.read_csv('{}{}{}'.format(file_path, file_name, '.csv'))"
   ]
  },
  {
   "cell_type": "code",
   "execution_count": 16,
   "metadata": {
    "pycharm": {
     "is_executing": false,
     "name": "#%%\n"
    }
   },
   "outputs": [],
   "source": [
    "# ФОРМИРУЕМ ДАТАСЕТЫ\n",
    "\n",
    "# ОБЩИЙ ДАТАСЕТ, main\n",
    "# объединяем данные о прогрессах, отсекая ошибочные записи\n",
    "main = pd.merge(data['progress_phases'], data['progresses'], how='inner', left_on='progress_id', right_on='id')\n",
    "del main['id']\n",
    "# объединяем данные о курсах\n",
    "courses_df = pd.merge(data['course_contents'], data['courses'].iloc[:,1:], how='left', left_on='course_id', right_on='id')\n",
    "del courses_df['id']\n",
    "courses_df.rename(columns={'title':'course_title', 'field':'course_field'}, inplace=True)\n",
    "# присоединяем данные о курсах к данным о прогрессам, в общий датафрейм\n",
    "main = pd.merge(main, courses_df, how='left', on=['course_id', 'module_number', 'lesson_number'])\n",
    "\n",
    "# ДАТАСЕТ С ДАННЫМИ О СТУДЕНТАХ, students_df\n",
    "# объединяем данные о студентах и их прогрессах\n",
    "students_df = pd.merge(data['students'][['id', 'city', 'birthday']], \n",
    "                       data['progresses'][['student_id', 'course_id']],\n",
    "                       how='outer', left_on='id', right_on='student_id')\n",
    "del students_df['student_id']\n",
    "# цепляем названия курсов\n",
    "students_df = pd.merge(students_df, data['courses'].iloc[:,1:], how='left', left_on='course_id', right_on='id', suffixes=['', '_del'])\n",
    "del students_df['id_del']\n",
    "students_df.rename(columns={'title':'course_title', 'field':'course_field'}, inplace=True)\n",
    "# преобразуем поле birthday в объект datetime\n",
    "students_df.birthday = students_df[pd.isna(students_df['birthday']) == False].birthday.apply(\n",
    "    lambda x: datetime.strptime(x, '%Y-%m-%d')\n",
    ")\n",
    "\n",
    "# создаем столбец age, содержащий возраст студентов\n",
    "def calculate_age(birthday, today):\n",
    "    \"\"\"Считает текущий возраст исходя из даты рождения\"\"\"\n",
    "    if not pd.isna(birthday):\n",
    "        # проверка на тролля, отсеиваем значения младше 10 лет и старше 100 лет\n",
    "        if today.year - 100 < birthday.year < today.year - 10:\n",
    "            return today.year - birthday.year - ((today.month, today.day) < (birthday.month, birthday.day)) \n",
    "    return None\n",
    "students_df['age'] = students_df['birthday'].apply(lambda x: calculate_age(x, date.today()))\n",
    "\n",
    "# print(students_df.info())\n",
    "# students_df[pd.isna(students_df['course_id']) == False].info()"
   ]
  },
  {
   "cell_type": "markdown",
   "metadata": {},
   "source": [
    "## Задание 1.1"
   ]
  },
  {
   "cell_type": "code",
   "execution_count": 22,
   "metadata": {
    "pycharm": {
     "is_executing": false,
     "name": "#%%\n"
    }
   },
   "outputs": [
    {
     "name": "stdout",
     "output_type": "stream",
     "text": [
      "Общее количество курсов:  15\n",
      "\n",
      "Количество модулей в каждом курсе:\n",
      "course_title\n",
      "Excel Базовый                           9\n",
      "Java-разработчик                       17\n",
      "Java-разработчик c нуля                 9\n",
      "JavaScript с нуля                      18\n",
      "PHP-разработчик с 0 до PRO. Часть 1     8\n",
      "SMM-маркетолог от А до Я               11\n",
      "UX-дизайн                              20\n",
      "Анимация интерфейсов                   21\n",
      "Веб-вёрстка для начинающих 2.0          8\n",
      "Веб-дизайн PRO 2.0                     17\n",
      "Веб-дизайн Базовый                     17\n",
      "Веб-дизайн с нуля 2.0                  19\n",
      "Веб-разработчик                        20\n",
      "Интернет-маркетолог от Ingate          18\n",
      "Руководитель digital-проектов          17\n",
      "Name: module_title, dtype: int64\n",
      "\n",
      "Количество уроков в каждом модуле на каждом курсе:\n",
      "                                                                                  lessons_count\n",
      "course_title                  module_title                                                     \n",
      "Excel Базовый                  Визуализация данных Excel                                      5\n",
      "                              Основной функционал Excel                                      11\n",
      "                              Основной функционал Excel (продолжение)                         7\n",
      "                              Сводные таблицы Excel                                           5\n",
      "                              Формулы и функции Excel. Более сложные формулы                  5\n",
      "...                                                                                         ...\n",
      "Руководитель digital-проектов Решение факапов. Lean/TOC. Обзор.                               5\n",
      "                              Требовательность digital-продюсера                              4\n",
      "                              Управление временем                                             4\n",
      "                              Управление дизайнерами. Разработка дизайна по s...              7\n",
      "                              Экологичный путь менеджера                                      4\n",
      "\n",
      "[229 rows x 1 columns]\n",
      "\n",
      "Медианное количество уроков в модуле на каждом курсе:\n",
      "                                    lesson_title\n",
      "                                          median\n",
      "course_title                                    \n",
      "Excel Базовый                                5.0\n",
      "Java-разработчик                             7.0\n",
      "Java-разработчик c нуля                     13.0\n",
      "JavaScript с нуля                            7.0\n",
      "PHP-разработчик с 0 до PRO. Часть 1          4.0\n",
      "SMM-маркетолог от А до Я                     6.0\n",
      "UX-дизайн                                    3.5\n",
      "Анимация интерфейсов                         3.0\n",
      "Веб-вёрстка для начинающих 2.0               7.0\n",
      "Веб-дизайн PRO 2.0                           5.0\n",
      "Веб-дизайн Базовый                           3.0\n",
      "Веб-дизайн с нуля 2.0                        4.0\n",
      "Веб-разработчик                              2.0\n",
      "Интернет-маркетолог от Ingate                6.5\n",
      "Руководитель digital-проектов                5.0\n",
      "\n",
      "Количество учеников на каждом курсе:\n",
      "course_title\n",
      "Excel Базовый                           782\n",
      "Java-разработчик                        763\n",
      "Java-разработчик c нуля                 581\n",
      "JavaScript с нуля                       966\n",
      "PHP-разработчик с 0 до PRO. Часть 1     854\n",
      "SMM-маркетолог от А до Я                506\n",
      "UX-дизайн                              1151\n",
      "Анимация интерфейсов                    598\n",
      "Веб-вёрстка для начинающих 2.0         2004\n",
      "Веб-дизайн PRO 2.0                     1711\n",
      "Веб-дизайн Базовый                      518\n",
      "Веб-дизайн с нуля 2.0                  2014\n",
      "Веб-разработчик                         628\n",
      "Интернет-маркетолог от Ingate          2168\n",
      "Руководитель digital-проектов           685\n",
      "Name: student_id, dtype: int64\n",
      "\n",
      "Минимальный, максимальный, средний, медианный возраст студентов:\n"
     ]
    },
    {
     "ename": "TypeError",
     "evalue": "apply() missing 1 required positional argument: 'func'",
     "output_type": "error",
     "traceback": [
      "\u001b[0;31m---------------------------------------------------------------------------\u001b[0m",
      "\u001b[0;31mTypeError\u001b[0m                                 Traceback (most recent call last)",
      "\u001b[0;32m<ipython-input-22-fd3f097ba7ee>\u001b[0m in \u001b[0;36m<module>\u001b[0;34m\u001b[0m\n\u001b[1;32m     23\u001b[0m \u001b[0mprint\u001b[0m\u001b[0;34m(\u001b[0m\u001b[0;34m'\\nМинимальный, максимальный, средний, медианный возраст студентов:'\u001b[0m\u001b[0;34m)\u001b[0m\u001b[0;34m\u001b[0m\u001b[0;34m\u001b[0m\u001b[0m\n\u001b[1;32m     24\u001b[0m print(students_df[pd.isna(students_df.age) == False].groupby(['id','age']).count().reset_index()['age'].apply(\n\u001b[0;32m---> 25\u001b[0;31m     \u001b[0mage\u001b[0m \u001b[0;34m=\u001b[0m \u001b[0;34m(\u001b[0m\u001b[0;34m'min'\u001b[0m\u001b[0;34m,\u001b[0m\u001b[0;34m'max'\u001b[0m\u001b[0;34m,\u001b[0m\u001b[0;34m'mean'\u001b[0m\u001b[0;34m,\u001b[0m\u001b[0mnp\u001b[0m\u001b[0;34m.\u001b[0m\u001b[0mmedian\u001b[0m\u001b[0;34m)\u001b[0m\u001b[0;34m\u001b[0m\u001b[0;34m\u001b[0m\u001b[0m\n\u001b[0m\u001b[1;32m     26\u001b[0m ))\n\u001b[1;32m     27\u001b[0m \u001b[0;34m\u001b[0m\u001b[0m\n",
      "\u001b[0;31mTypeError\u001b[0m: apply() missing 1 required positional argument: 'func'"
     ]
    }
   ],
   "source": [
    "print('Общее количество курсов: ', len(courses_df.groupby(['course_id'])))\n",
    "\n",
    "print('\\nКоличество модулей в каждом курсе:')\n",
    "print(courses_df.groupby(['course_title'])['module_title'].nunique())\n",
    "\n",
    "print('\\nКоличество уроков в каждом модуле на каждом курсе:')\n",
    "print(courses_df.groupby(['course_title', 'module_title'])['lesson_title'].agg(lessons_count='count'))\n",
    "\n",
    "print('\\nМедианное количество уроков в модуле на каждом курсе:')\n",
    "temp_df = courses_df[['course_title', 'module_title','lesson_title']].groupby(['course_title', 'module_title']).count().reset_index()\n",
    "print(temp_df.groupby(['course_title']).agg({'lesson_title': [np.median]}))\n",
    "\n",
    "print('\\nКоличество учеников на каждом курсе:')\n",
    "students_on_course = main.groupby('course_title')['student_id'].nunique()\n",
    "print(students_on_course)\n",
    "students_on_course = students_on_course.reset_index()\n",
    "students_on_course.rename(columns={'student_id':'count_students'}, inplace=True)\n",
    "# присоединяем данные о сферах курсов\n",
    "students_on_course = pd.merge(students_on_course, data['courses'][['title','field']], how='left', left_on='course_title', right_on='title')\n",
    "del students_on_course['title']\n",
    "students_on_course.sort_values('count_students', inplace=True)\n",
    "\n",
    "print('\\nМинимальный, максимальный, средний, медианный возраст студентов:')\n",
    "print(students_df[pd.isna(students_df.age) == False].groupby(['id','age']).count().reset_index()['age'].apply(\n",
    "    age = ('min','max','mean',np.median)\n",
    "))\n",
    "\n",
    "print('\\nМинимальный, максимальный, средний, медианный возраст студентов на каждом курсе:')\n",
    "print(students_df[pd.isna(students_df.age) == False].groupby('course_title')['age'].agg({\n",
    "    'age': ['min','max','mean',np.median]\n",
    "}))"
   ]
  },
  {
   "cell_type": "markdown",
   "metadata": {},
   "source": [
    "## Задание 1.2"
   ]
  },
  {
   "cell_type": "code",
   "execution_count": null,
   "metadata": {
    "pycharm": {
     "is_executing": false,
     "name": "#%%\n"
    }
   },
   "outputs": [],
   "source": [
    "plt.style.use('ggplot')\n",
    "fig, subplot = plt.subplots()\n",
    "fig.set_size_inches(15, 10)\n",
    "x = students_on_course.course_title\n",
    "y = students_on_course.count_students\n",
    "plt.bar(x, y, color='green')\n",
    "plt.ylabel(\"Количество студентов\")\n",
    "plt.title(\"Количество студентов на каждом курсе\", fontsize='20')\n",
    "plt.xticks(x, rotation=90)\n",
    "plt.show()"
   ]
  },
  {
   "cell_type": "markdown",
   "metadata": {},
   "source": [
    "## Задание 1.3"
   ]
  },
  {
   "cell_type": "code",
   "execution_count": null,
   "metadata": {
    "pycharm": {
     "is_executing": false,
     "name": "#%%\n"
    }
   },
   "outputs": [],
   "source": [
    "fig, subplot = plt.subplots()\n",
    "fig.set_size_inches(13, 10)\n",
    "# готовим данные для графика\n",
    "fields_list = students_on_course.field.unique()\n",
    "colors = ['saddlebrown', 'orange', 'green', 'royalblue', 'mediumorchid', 'coral']\n",
    "y = students_on_course.course_title\n",
    "x = students_on_course.count_students\n",
    "# подписи со значением на барах\n",
    "for i, v in enumerate(x):\n",
    "    subplot.text(v + 10, i - .1, str(v), color='black')\n",
    "# рисуем бары\n",
    "for i, item in enumerate(students_on_course.values):\n",
    "    plt.barh(item[0], item[1], color=colors[np.where(fields_list == item[2])[0][0]])\n",
    "# делаем  легенду по группам\n",
    "handles = [mpatches.Patch(color=colors[i], label=field) for i, field in enumerate(fields_list)]\n",
    "legend1 = plt.legend(handles=handles, loc=4)\n",
    "# подписи осей\n",
    "plt.yticks(y, fontsize=14)\n",
    "plt.xlabel(\"Количество студентов\", fontsize=14)\n",
    "plt.title(\"Количество студентов на каждом курсе\", fontsize=18)\n",
    "# рисуем медиану и легенду для нее\n",
    "median_line = plt.axvline(np.median(x), label='Median')\n",
    "legend2 = plt.legend([median_line], ['Median'], loc=\"right\")\n",
    "subplot.add_artist(legend1)\n",
    "# удаляем рамку\n",
    "subplot.spines['top'].set_visible(False)\n",
    "subplot.spines['right'].set_visible(False)\n",
    "subplot.spines['bottom'].set_visible(False)\n",
    "subplot.spines['left'].set_visible(False)\n",
    "\n",
    "plt.show()"
   ]
  },
  {
   "cell_type": "markdown",
   "metadata": {
    "pycharm": {
     "is_executing": false,
     "name": "#%% md\n"
    }
   },
   "source": [
    "## Вывод:\n",
    "**Структура обучения**<br>\n",
    "Платформа предлагает для обучения 15 курсов. Каждый курс содержит, в среднем, 15 модулей.<br>\n",
    "(Причем на курсы для начинающих содержат меньше всех модулей - 8-9.)<br>\n",
    "Каждый модуль на всех курсах содержит в среднем 5 уроков. <br>Сильно выделяется только курс \"Java-разработчик c нуля\",\n",
    "имеющий медианное количество уроков - 13.<br>\n",
    "**Аудитория**<br>\n",
    "Общее количество студентов на платформе, которые уже начали/закончили обучение - 15929‬.<br>\n",
    "Средний возраст студентов - 28 лет, взрослые люди, которые уже (возможно) получили высшее образование и имеют семью.\n",
    "<br>Хотя на каждом курсе встречаются как и совсем молодые люди (школьных лет), так и люди в возрасте (55-75 лет)<br>\n",
    "Интересное наблюдение, на курсах с пометкой business средний возраст студентов увеличен - 31-33 лет.\n",
    "\n",
    "По графику, мы можем наблюдать увеличенную тенденцию стремления получить образование в сфере веба: <br>\n",
    "половина всех студентов обучается на курсах по веб-дизайну, веб-верстке и интернет-маркетологии.<br>\n",
    "Среднекурсовая численность составляет 780 человек.<br>\n",
    "Распределение студентов по типам курсов:<br>\n",
    "маркетинг - 16%<br>\n",
    "дизайн - 37%<br>\n",
    "разработка - 38%<br>\n",
    "бизнес - 9%"
   ]
  },
  {
   "cell_type": "markdown",
   "metadata": {},
   "source": [
    "## 2. Расчет потенциальной нагрузки на преподавателей\n",
    "\n",
    "1. **(p)** Рассчитать прирост студентов на каждом курсе в каждом месяце за всю историю (каждый месяц в диапазоне от марта 2016 до июля 2019 включительно). Считать дату начала прохождения курса студентом по дате начала первой домашней работы.\n",
    "2. **(m)** На основании первого пункта построить line-graph с приростом студентов в каждом месяце для каждого курса. 15 графиков. Графики должны иметь заголовки, оси должны быть подписаны. Ticks нужно развернуть так, чтобы они были читаемы.\n",
    "3. **(m)** На основании первого пункта построить line-graph с несколькими линиями, отражающими прирост студентов в каждом месяце для каждого курса. 15 линий на графике. Ticks нужно развернуть так, чтобы они были читаемы. График должен иметь заголовок. Ось, отражающая прирост, должна быть подписана. Линия для каждого курса должна иметь свой цвет (нужна легенда). Рамок у графика быть не должно ⭐\n",
    "4. **(p)** Рассчитать количество прогрессов по выполнению домашних работ в каждом месяце за всю историю (каждый месяц в диапазоне от марта 2016 до июля 2019 включительно) для каждого курса. Учитывать, что выполнение домашнего задания может перетекать из одного месяца в другой (такие дз надо включать в общее число прогрессов для всех месяцев, которые покрывает срок выполнения этих дз)\n",
    "5. **(m)** Построить line-graph по четвертому пункту. 15 графиков. Графики должны иметь заголовки, оси должны быть подписаны. Ticks нужно развернуть так, чтобы они были читаемы\n",
    "6. **(m)** Построить один line-graph для всех курсов по четвертому пункту. 15 линий на графике. Ticks нужно развернуть так, чтобы они были читаемы. График должен иметь заголовок. Ось, отражающая количество прогрессов, должна быть подписана. Линия для каждого курса должна иметь свой цвет (нужна легенда). Рамок у графика быть не должно ⭐\n",
    "7. На основании рассчитанных значений сделайте аналитический вывод (должен быть полным и покрывать все полученные выше метрики)"
   ]
  },
  {
   "cell_type": "markdown",
   "metadata": {},
   "source": [
    "## Задание 2"
   ]
  },
  {
   "cell_type": "code",
   "execution_count": null,
   "metadata": {
    "pycharm": {
     "is_executing": false
    }
   },
   "outputs": [],
   "source": [
    "# ЗАДАНИЕ 2.1\n",
    "\n",
    "# Формируем промежуточный датафрейм homeworks_df, содержащий сведения только о ДЗ\n",
    "homeworks_df = main[['progress_id', 'course_title', 'module_number', 'lesson_number', 'is_homework', 'student_id']]\n",
    "# отсеиваем все, кроме домашних заданий\n",
    "homeworks_df = homeworks_df[homeworks_df.is_homework == True]\n",
    "# сортируем, для того чтобы первые домашние задания оказались сверху\n",
    "homeworks_df.sort_values(['module_number', 'lesson_number'], inplace=True)\n",
    "del homeworks_df['is_homework']\n",
    "# присоединяем даты начала/завершения домашних работ и статус\n",
    "homeworks_df = pd.merge(homeworks_df, data['progress_phases'], how='left', on=['progress_id', 'module_number', 'lesson_number'])\n",
    "\n",
    "# преобразуем поля с датами, в объекты\n",
    "def convert_datetime(str_time):\n",
    "    \"\"\"конвертирует строки датафрейма в объекты Datetime\"\"\"\n",
    "    mask = '%Y-%m-%d %H:%M:%S'\n",
    "    try:\n",
    "        return datetime.strptime(str_time[:-3], '{}{}'.format(mask, '.%f'))\n",
    "    except ValueError:\n",
    "        try:\n",
    "            return datetime.strptime(str_time[:-3], mask)\n",
    "        except ValueError:\n",
    "            return None\n",
    "homeworks_df['start_date'] = homeworks_df[pd.isna(homeworks_df['start_date']) == False].start_date.apply(lambda x: convert_datetime(x))\n",
    "homeworks_df['finish_date'] = homeworks_df[pd.isna(homeworks_df['finish_date']) == False].finish_date.apply(lambda x: convert_datetime(x))\n",
    "\n",
    "# формируем датафрейм dynamic_df, содержащий значения прироста студентов на каждом курсе\n",
    "# у каждого студента по курсам берем только первое выполненное ДЗ\n",
    "dynamic_df = homeworks_df.groupby(['progress_id', 'course_title', 'student_id']).agg('first').reset_index()\n",
    "# узнать зачем нужны милисекундыс homeworks_df['hz'] = homeworks_df['start_date'].apply(lambda x: x.strftime('%Y-%m-%d %H:%M:%S'))\n",
    "# создаем столбец, содержащий год и месяц, для дальнейших операций\n",
    "dynamic_df['month'] = dynamic_df['start_date'].apply(lambda x: x.strftime('%Y-%m'))\n",
    "\n",
    "\n",
    "dynamic_df = dynamic_df[['course_title', 'month', 'student_id']].groupby(['course_title', 'month']).agg('count').reset_index()\n",
    "dynamic_df.rename(columns={'student_id' : 'students_count'}, inplace=True)\n",
    "# ищем минимальные и максимальные даты [год, месяц]\n",
    "min_date = list(map(int, dynamic_df.month.min().split('-')))\n",
    "max_date = list(map(int, dynamic_df.month.max().split('-')))\n",
    "# формируем диапазон дат (список строк) с шагом в месяц\n",
    "dates_list = []\n",
    "for year in range(min_date[0], max_date[0] + 1):\n",
    "        for month in range(1, 12 + 1):\n",
    "            # пропускаем только значения, расположенные между минимальной и максимальной датой\n",
    "            if ((year == min_date[0]) & (month >= min_date[1])) | ((year == max_date[0]) & (month <= max_date[1])) | (min_date[0] < year < max_date[0]):\n",
    "                dates_list.append(str(year) + '-' + str(month).zfill(2))\n",
    "# месяца без записей заполняем нулями\n",
    "update_list = []\n",
    "for course in dynamic_df.course_title.unique():\n",
    "    course_dates = dynamic_df[dynamic_df.course_title == course].month.values.tolist()\n",
    "    for item in dates_list:\n",
    "        if item not in course_dates:\n",
    "            update_list.append({'course_title':course, 'month': item, 'students_count': 0})\n",
    "# присоединяем новые строки с нулями\n",
    "dynamic_df = pd.concat([dynamic_df, pd.DataFrame(update_list)], ignore_index=True, axis=0)\n",
    "# сортируем по месяцам\n",
    "dynamic_df.sort_values(['course_title', 'month'], inplace=True)"
   ]
  },
  {
   "cell_type": "code",
   "execution_count": null,
   "metadata": {
    "pycharm": {
     "is_executing": false,
     "name": "#%%\n"
    }
   },
   "outputs": [],
   "source": [
    "# ЗАДАНИЕ 2.2\n",
    "\n",
    "titles = dynamic_df.course_title.unique().tolist()\n",
    "subplots = [] # двумерный массив полотен [fig_1[subplots..], fig_2[subplots..]]\n",
    "LIMIT_SUBPLOTS, SHAPE = 8, 42\n",
    "\n",
    "x_values = dates_list # значения оси Х\n",
    "\n",
    "# рисуем графики по 8 штук\n",
    "for fig_number in range(1, math.ceil(len(titles) / LIMIT_SUBPLOTS) + 1 ):\n",
    "    subplots.append([])\n",
    "    # инициализируем\n",
    "    fig = plt.figure()\n",
    "    fig.set_size_inches(18, 20)\n",
    "    for index, title in enumerate(titles[fig_number * LIMIT_SUBPLOTS - LIMIT_SUBPLOTS : LIMIT_SUBPLOTS * fig_number]):\n",
    "        # добавляем и настраиваем холст\n",
    "        subplots[fig_number-1].append(fig.add_subplot(int('{}{}'.format(SHAPE, index + 1))))\n",
    "        subplots[fig_number-1][index].grid(True)\n",
    "        plt.xticks(rotation=90, fontsize='10') \n",
    "        plt.subplots_adjust(wspace=0.15, hspace=0.45)\n",
    "        # извлекаем значения оси Y\n",
    "        y_values = dynamic_df[dynamic_df.course_title == title].students_count.values.tolist()\n",
    "        # подписываем \n",
    "        subplots[fig_number-1][index].set_title(title, fontsize = '20')\n",
    "        subplots[fig_number-1][index].set_ylabel('Прирост студентов')\n",
    "        subplots[fig_number-1][index].set_xlabel('Месяц')\n",
    "        # рисуем\n",
    "        subplots[fig_number-1][index].plot(x_values, y_values, 'g')\n",
    "        "
   ]
  },
  {
   "cell_type": "code",
   "execution_count": null,
   "metadata": {
    "pycharm": {
     "is_executing": false,
     "name": "#%%\n"
    }
   },
   "outputs": [],
   "source": [
    "# ЗАДАНИЕ 2.3\n",
    "\n",
    "# инициализируем\n",
    "fig, subplot = plt.subplots()\n",
    "fig.set_size_inches(18, 10)\n",
    "# настраиваем холст\n",
    "subplot.grid(True)\n",
    "plt.xticks(rotation=90, fontsize='10') \n",
    "plt.subplots_adjust(wspace=0.15, hspace=0.45)\n",
    "# # удаляем рамку\n",
    "subplot.spines['top'].set_visible(False)\n",
    "subplot.spines['right'].set_visible(False)\n",
    "subplot.spines['bottom'].set_visible(False)\n",
    "subplot.spines['left'].set_visible(False)\n",
    "plt.ylabel(\"Прирост студентов\", fontsize=14)\n",
    "plt.title(\"Прирост студентов на каждом курсе по месяцам\", fontsize=20)\n",
    "x_values = dates_list # значения оси Х\n",
    "\n",
    "for index, title in enumerate(titles):\n",
    "    # извлекаем значения оси Y\n",
    "    y_values = dynamic_df[dynamic_df.course_title == title].students_count.values.tolist()\n",
    "    # рисуем\n",
    "    subplot.plot(x_values, y_values, label=title)\n",
    "\n",
    "plt.legend(loc='center left')\n",
    "plt.show()"
   ]
  },
  {
   "cell_type": "code",
   "execution_count": null,
   "metadata": {
    "pycharm": {
     "is_executing": false,
     "name": "#%%\n"
    }
   },
   "outputs": [],
   "source": [
    "# ЗАДАНИЕ 2.4\n",
    "# (p) Рассчитать количество прогрессов по выполнению домашних работ в каждом месяце за всю историю (каждый месяц в диапазоне \n",
    "# от марта 2016 до июля 2019 включительно) для каждого курса. Учитывать, что выполнение домашнего задания может перетекать \n",
    "# из одного месяца в другой (такие дз надо включать в общее число прогрессов для всех месяцев, которые покрывает срок выполнения этих дз)\n",
    "\n",
    "def calculate_months_on_row(row):\n",
    "    \"\"\"Формирует список диапазона месяцев, между датой начала и датой завершения прогресса\"\"\"\n",
    "    finish_date = row['finish_date']\n",
    "    # если дата завершения не указана, меняем значение на максимальное\n",
    "    if pd.isnull(finish_date):\n",
    "        finish_date = datetime(max_date[0], max_date[1], 1)\n",
    "    # если дата начала и дата старта совпадают (в одном месяце) то возвращаем список с одним стартовым месяцем\n",
    "    # иначе вычисляем промежуточные значения месяцев, и возвращаем как список\n",
    "    if not (row['start_date'].year == finish_date.year) & (row['start_date'].month == finish_date.month):\n",
    "        month_list = []\n",
    "        # формируем диапазон месяцев\n",
    "        for year in range(row['start_date'].year, finish_date.year + 1):\n",
    "            for month in range(1, 12 + 1):\n",
    "                # пропускаем только значения, расположенные между датой старта и датой финиша\n",
    "                if row['start_date'].year == finish_date.year:\n",
    "                    if row['start_date'].month <= month <= finish_date.month:\n",
    "                         month_list.append('{}-{}'.format(year, str(month).zfill(2)))\n",
    "                elif row['start_date'].year < year < finish_date.year:\n",
    "                    month_list.append('{}-{}'.format(year, str(month).zfill(2)))\n",
    "                elif year == row['start_date'].year :\n",
    "                    if month >= row['start_date'].month:\n",
    "                        month_list.append('{}-{}'.format(year, str(month).zfill(2)))\n",
    "                elif year == finish_date.year:\n",
    "                    if month <= finish_date.month:\n",
    "                        month_list.append('{}-{}'.format(year, str(month).zfill(2)))\n",
    "                    # progress_update_list.append({\n",
    "                    #     progress_id : \n",
    "                    # })\n",
    "        return month_list\n",
    "    return [row['start_date'].strftime('%Y-%m')] \n",
    "\n",
    "# создаем столбец month, хранящий список, значениями которого является диапазон месяцев от даты старта прогресса до его завершения\n",
    "homeworks_df['month'] = homeworks_df.apply(\n",
    "    lambda x: calculate_months_on_row(x), axis='columns'\n",
    ")"
   ]
  },
  {
   "cell_type": "code",
   "execution_count": null,
   "metadata": {
    "pycharm": {
     "is_executing": false,
     "name": "#%%\n"
    }
   },
   "outputs": [],
   "source": [
    "# ЗАДАНИЕ 2.5\n",
    "\n",
    "# Ппостроить line-graph по четвертому пункту. 15 графиков. Графики должны иметь заголовки, оси должны быть подписаны. \n",
    "# Ticks нужно развернуть так, чтобы они были читаемы\n",
    "\n",
    "subplots = [] # двумерный массив полотен [fig_1[subplots..], fig_2[subplots..]]\n",
    "LIMIT_SUBPLOTS, SHAPE = 8, 42\n",
    "\n",
    "x_values = dates_list # значения оси Х\n",
    "\n",
    "# рисуем графики по 8 штук\n",
    "for fig_number in range(1, math.ceil(len(titles) / LIMIT_SUBPLOTS) + 1 ):\n",
    "    subplots.append([])\n",
    "    # инициализируем\n",
    "    fig = plt.figure()\n",
    "    fig.set_size_inches(18, 20)\n",
    "    for index, title in enumerate(titles[fig_number * LIMIT_SUBPLOTS - LIMIT_SUBPLOTS : LIMIT_SUBPLOTS * fig_number]):\n",
    "        # добавляем и настраиваем холст\n",
    "        subplots[fig_number-1].append(fig.add_subplot(int('{}{}'.format(SHAPE, index + 1))))\n",
    "        subplots[fig_number-1][index].grid(True)\n",
    "        plt.xticks(rotation=90, fontsize='10') \n",
    "        plt.subplots_adjust(wspace=0.15, hspace=0.45)\n",
    "        # извлекаем значения оси Y\n",
    "        y_values = []\n",
    "        for month_value in dates_list:\n",
    "            mask = homeworks_df[homeworks_df['course_title'] == title].month.apply(lambda x: any(month == month_value for month in x))\n",
    "            y_values.append(homeworks_df[homeworks_df['course_title'] == title][mask].progress_id.count())\n",
    " \n",
    "        # подписываем \n",
    "        subplots[fig_number-1][index].set_title(title, fontsize = '20')\n",
    "        subplots[fig_number-1][index].set_ylabel('Количество прогрессов')\n",
    "        subplots[fig_number-1][index].set_xlabel('Месяц')\n",
    "        # рисуем\n",
    "        subplots[fig_number-1][index].plot(x_values, y_values, 'g')"
   ]
  },
  {
   "cell_type": "code",
   "execution_count": null,
   "metadata": {
    "pycharm": {
     "is_executing": false,
     "name": "#%%\n"
    }
   },
   "outputs": [],
   "source": [
    "# ЗАДАНИЕ 2.6\n",
    "\n",
    "# Построить один line-graph для всех курсов по четвертому пункту. 15 линий на графике. Ticks нужно развернуть так, чтобы они были читаемы. \n",
    "# График должен иметь заголовок. Ось, отражающая количество прогрессов, должна быть подписана. \n",
    "# Линия для каждого курса должна иметь свой цвет (нужна легенда). Рамок у графика быть не должно ⭐\n",
    "\n",
    "# инициализируем\n",
    "fig, subplot = plt.subplots()\n",
    "fig.set_size_inches(18, 10)\n",
    "# настраиваем холст\n",
    "subplot.grid(True)\n",
    "plt.xticks(rotation=90, fontsize='10') \n",
    "plt.subplots_adjust(wspace=0.15, hspace=0.45)\n",
    "# # удаляем рамку\n",
    "subplot.spines['top'].set_visible(False)\n",
    "subplot.spines['right'].set_visible(False)\n",
    "subplot.spines['bottom'].set_visible(False)\n",
    "subplot.spines['left'].set_visible(False)\n",
    "plt.ylabel(\"Прирост студентов\", fontsize=14)\n",
    "plt.title(\"Количество прогрессов на каждом курсе по месяцам\", fontsize=20)\n",
    "x_values = dates_list # значения оси Х\n",
    "\n",
    "for index, title in enumerate(titles):\n",
    "    # извлекаем значения оси Y\n",
    "    y_values = []\n",
    "    for month_value in dates_list:\n",
    "        mask = homeworks_df[homeworks_df['course_title'] == title].month.apply(lambda x: any(month == month_value for month in x))\n",
    "        y_values.append(homeworks_df[homeworks_df['course_title'] == title][mask].progress_id.count())\n",
    "    # рисуем\n",
    "    subplot.plot(x_values, y_values, label=title)\n",
    "\n",
    "plt.legend(loc='center left')\n",
    "plt.show()"
   ]
  },
  {
   "cell_type": "markdown",
   "metadata": {
    "pycharm": {
     "name": "#%% md\n"
    }
   },
   "source": [
    "## Вывод\n",
    "Несмотря на то что в данных имеются записи о первых студентах еще в 2016 году, платформа начала полноценную образовательную деятельность\n",
    "только с января 2018 года.\n",
    "\n",
    "Можно заметить что практически на каждом курсе в январе каждого года происходит резкий скачок прироста новых студентов, \n",
    "скорее всего, как следствие маркетинговых программ.\n",
    "Соответственно, нагрузка на преподавателей увеличивается как минимум в полтора раза. \n",
    "Например, на самом популярном курсе, \"Веб-дизайн с нуля 2.0\" значения прироста увеличивается в 2 раза! \n",
    "\n",
    "Последние четыре месяца выборки, почти на всех курсах наблюдается снижение притока студентов, возможно влияет фактор сезонности.\n",
    "<br>Но вместе с тем есть и курсы, на которых динамика притока студентов отрицательна постоянно, и на которые следует обратить внимание маркетологам.\n",
    "<br>\n",
    "Курсы с отрицательной динамикой:<br>    \n",
    "* \"Java-разработчик\" - на фоне всех данных прирост студентов за последние четыре месяца упал до катастрофического уровня.<br>    \n",
    "* \"Веб-дизайн Базовый\" - первые полгода курс пользовался стабильным спросом, но, затем в течение года приток новых студентов находится на критическом уровне<br>    \n",
    "* \"Веб-разработчик\" - такая же проблема, как и в предыдущем курсе.\n",
    "\n",
    "На этих курсах вкупе с отрицательной динамикой притока студентов, снижаются и общие показатели количества прогрессов.\n",
    "Соответственно, повышенной нагрузки на преподавателей ближайшее время не придвидится.\n",
    "\n",
    "На всех остальных курсах прогнозируется резкое увеличение нагрузки, необходимо задуматься о расширении \n",
    "штата преподавателей к январю 2020 года."
   ]
  },
  {
   "cell_type": "markdown",
   "metadata": {},
   "source": [
    "## 3. Выявление проблемных модулей\n",
    "\n",
    "1. **(p)** Рассчитать минимальное, максимальное, среднее, медианное время прохождения каждого модуля (разность между временем начала и окончания выполнения домашней работы) для каждого курса. Если домашних заданий в модуле несколько, то считать разность между временем начала выполнения первой домашней работы и временем окончания выполнения последней домашней работы в модуле\n",
    "2. **(m)** На основании первого пункта построить line-graph с медианным временем прохождения каждого модуля для каждого курса. 15 графиков. Графики должны иметь заголовки\n",
    "3. **(p)**  Чтобы выявить сезонность, посчитать медианное время выполнения домашней работы по месяцам (12 месяцев, январь-декабрь) для каждого курса. \n",
    "4. **(m)** На основании третьего пункта построить line-graph, на который будут нанесены линии для каждого курса с медианным временем выполнения домашней работы по месяцам. 15 линий на графике. График должен иметь заголовок. Ось, отражающая время прохождения, должна быть подписана. Линия для каждого курса должна иметь свой цвет (нужна легенда). Рамок у графика быть не должно  ⭐\n",
    "5. На основании рассчитанных значений сделайте аналитический вывод (должен быть полным и покрывать все полученные выше метрики)"
   ]
  },
  {
   "cell_type": "markdown",
   "metadata": {},
   "source": [
    "## Задания 3.1, 3.2"
   ]
  },
  {
   "cell_type": "code",
   "execution_count": null,
   "metadata": {
    "pycharm": {
     "is_executing": false
    }
   },
   "outputs": [],
   "source": [
    "# ЗАДАНИЕ 3.1\n",
    "\n",
    "# формируем датафрейм modules_df, содержащий данные по каждому модулю\n",
    "modules_df = homeworks_df.iloc[:,:-1].groupby(['course_title', 'progress_id', 'student_id', 'module_number']).agg({\n",
    "    'lesson_number' : ['last'], 'status' : ['last'],  'start_date': ['first'], 'finish_date' : ['last']\n",
    "}).reset_index()\n",
    "# убираем мультииндекс\n",
    "modules_df = modules_df.droplevel(1, axis=1)\n",
    "# берем данные прогрессов только завершенных модулей\n",
    "modules_df = modules_df[modules_df.status == 'done']\n",
    "# создаем столбец, со временем прохождения модуля\n",
    "modules_df['duration'] = modules_df[['start_date', 'finish_date']].apply(\n",
    "    lambda x: x['finish_date'] - x['start_date'], axis='columns'\n",
    ")\n",
    "# присоединяем имена модулей\n",
    "modules_df = pd.merge(\n",
    "    modules_df, courses_df[['course_title', 'module_number', 'module_title']].groupby(['course_title', 'module_number']).agg('first').reset_index(), \n",
    "    how='left', on=['course_title', 'module_number']\n",
    ")\n",
    "# отсеиваем записи с отрицательными значениями duration (какието системные ошибки)\n",
    "modules_df = modules_df[modules_df.duration > timedelta(seconds=0)]\n",
    "# собираем статистические данные по длительности в датафрейм duration_df\n",
    "duration_df = modules_df[['course_title', 'module_number', 'module_title', 'duration']].groupby(['course_title', 'module_title']).agg({\n",
    "    'module_number' : 'first',\n",
    "    'duration' : {'min' : lambda x: min(x), 'max' : lambda x: max(x), \n",
    "                  'mean' : lambda x: np.mean(x), 'median' : lambda x: np.median(x)\n",
    "                  }\n",
    "}).reset_index()\n",
    "# убираем мультииндекс\n",
    "duration_df.columns = [\"_\".join(x) for x in duration_df.columns.ravel()]\n",
    "duration_df.rename(columns={'course_title_': 'course_title', 'module_title_':'module_title', 'module_number_first':'module_number'}, inplace=True)\n",
    "duration_df.sort_values(['course_title', 'module_number'], inplace=True)\n",
    "duration_df.head(10)"
   ]
  },
  {
   "cell_type": "code",
   "execution_count": null,
   "metadata": {
    "pycharm": {
     "is_executing": false,
     "name": "#%%\n"
    }
   },
   "outputs": [],
   "source": [
    "# ЗАДАНИЕ 3.2\n",
    "\n",
    "subplots = [] # двумерный массив полотен [fig_1[subplots..], fig_2[subplots..]]\n",
    "LIMIT_SUBPLOTS, SHAPE = 8, 42\n",
    "# рисуем графики по 8 штук\n",
    "for fig_number in range(1, math.ceil(len(titles) / LIMIT_SUBPLOTS) + 1 ):\n",
    "    subplots.append([])\n",
    "    # инициализируем\n",
    "    fig = plt.figure()\n",
    "    fig.set_size_inches(18, 20)\n",
    "    for index, title in enumerate(titles[fig_number * LIMIT_SUBPLOTS - LIMIT_SUBPLOTS : LIMIT_SUBPLOTS * fig_number]):\n",
    "        # добавляем и настраиваем холст\n",
    "        subplots[fig_number-1].append(fig.add_subplot(int('{}{}'.format(SHAPE, index + 1))))\n",
    "        subplots[fig_number-1][index].grid(True)\n",
    "        plt.subplots_adjust(wspace=0.15, hspace=0.45)\n",
    "        # извлекаем значения осей \n",
    "        x_values, y_values = [], []\n",
    "        x_values = duration_df[duration_df.course_title == title]['module_number'].values\n",
    "        y_values = duration_df[duration_df.course_title == title]['duration_median'].astype('timedelta64[D]')\n",
    "\n",
    "        plt.xticks(x_values, fontsize='10') \n",
    "        # подписываем \n",
    "        subplots[fig_number-1][index].set_title(title, fontsize = '20')\n",
    "        subplots[fig_number-1][index].set_ylabel('Время прохождения (дни)')\n",
    "        subplots[fig_number-1][index].set_xlabel('Номер модуля')\n",
    "        # рисуем\n",
    "        subplots[fig_number-1][index].plot(x_values, y_values, color='g')"
   ]
  },
  {
   "cell_type": "markdown",
   "metadata": {
    "pycharm": {
     "is_executing": false,
     "name": "#%% md\n"
    }
   },
   "source": [
    "## Задания 3.3, 3.4"
   ]
  },
  {
   "cell_type": "code",
   "execution_count": null,
   "metadata": {
    "pycharm": {
     "is_executing": false,
     "name": "#%%\n"
    }
   },
   "outputs": [],
   "source": [
    "# ЗДАНИЕ 3.3\n",
    "\n",
    "# берем данные только о завершенных прогрессах\n",
    "season_df = homeworks_df[homeworks_df.status == 'done']\n",
    "# берем прогрессы, совершенные в одном месяце\n",
    "season_df = season_df[season_df.month.str.len() == 1]\n",
    "\n",
    "# создаем столбец, со временем прохождения модуля\n",
    "season_df['duration'] = season_df[['start_date', 'finish_date']].apply(\n",
    "    lambda x: x['finish_date'] - x['start_date'], axis='columns'\n",
    ")\n",
    "# отсеиваем записи с отрицательными значениями duration (какието системные ошибки)\n",
    "season_df = season_df[season_df.duration > timedelta(seconds=0)]\n",
    "# создаем столбец month_number, содержащий номер месяца, в котором выполнен прогресс\n",
    "season_df['month_number'] = season_df['month'].apply(lambda x: x[0][-2:])\n",
    "season_df = season_df[['course_title', 'month_number', 'duration']].groupby(['course_title', 'month_number']).agg(\n",
    "    lambda x: np.median(x)\n",
    ").reset_index()\n",
    "\n",
    "print('Медианное время выполнения ДЗ по месяцам:\\n')\n",
    "season_df.head(10)"
   ]
  },
  {
   "cell_type": "code",
   "execution_count": null,
   "metadata": {
    "pycharm": {
     "is_executing": false,
     "name": "#%%\n"
    }
   },
   "outputs": [],
   "source": [
    "# ЗАДАНИЕ 3.4\n",
    "# инициализируем\n",
    "fig, subplot = plt.subplots()\n",
    "fig.set_size_inches(18, 10)\n",
    "# настраиваем холст\n",
    "subplot.grid(True)\n",
    "plt.xticks(rotation=90, fontsize='10') \n",
    "plt.subplots_adjust(wspace=0.15, hspace=0.45)\n",
    "# # удаляем рамку\n",
    "subplot.spines['top'].set_visible(False)\n",
    "subplot.spines['right'].set_visible(False)\n",
    "subplot.spines['bottom'].set_visible(False)\n",
    "subplot.spines['left'].set_visible(False)\n",
    "plt.ylabel(\"Время выполнения ДЗ (в днях)\", fontsize=14)\n",
    "plt.xlabel(\"Месяц\", fontsize=14)\n",
    "plt.title(\"Медианное время выполнения ДЗ по месяцам\", fontsize=20)\n",
    "\n",
    "for index, title in enumerate(titles):\n",
    "    # извлекаем значения осей\n",
    "    y_values = season_df[season_df.course_title == title]['duration'].astype('timedelta64[D]')\n",
    "    x_values = season_df[season_df.course_title == title]['month_number'].values\n",
    "    # рисуем\n",
    "    subplot.plot(x_values, y_values, label=title)\n",
    "\n",
    "plt.legend(loc='upper center')\n",
    "plt.show()"
   ]
  },
  {
   "cell_type": "markdown",
   "metadata": {
    "pycharm": {
     "name": "#%% md\n"
    }
   },
   "source": [
    "Кажется из этого графика мы можем извлечь не слишком много полезной информации...\n",
    "\n",
    "В задании предлагается выявить сезонность, используя медианное время прохождения домашних заданий по месяцам.\n",
    "Однако я считаю такой подход не совсем верным, потому что пришлось отсеять все значения, время выполнения которых превышает месяц,\n",
    "так как, нет никаких данных о том занимался ли студент все эти месяцы или, например, скачал домашку и уехал в отпуск.\n",
    "А таких значений очень много, соответственно итоговая картина может быть искажена.\n",
    "\n",
    "Вместо этого я предлагаю аккумулировать сами факты выполнения заданий, придавая им вес.\n",
    "Например, если студент выполнил задание за один месяц, то вес этого прогресса в этом месяце будет равен 1. \n",
    "А если он потратил на задание N месяцев, то к каждому из этих месяцев мы прибавляем прогресс с весом равным 1/N*\n",
    "Таким образом, мы оставим такие прогрессы в выборке, при этом снизив их влияние на общие показатели сезонности."
   ]
  },
  {
   "cell_type": "code",
   "execution_count": null,
   "metadata": {
    "pycharm": {
     "is_executing": false,
     "name": "#%%\n"
    }
   },
   "outputs": [],
   "source": [
    "# ЗАДАНИЕ 3.3 (вариант с весами)\n",
    "\n",
    "# берем данные только о завершенных прогрессах\n",
    "season_df = homeworks_df[homeworks_df.status == 'done']\n",
    "# отсекаем прогрессы, которые длятся дольше года, т.к. они не имеют ценности для выявления сезонности\n",
    "season_df = season_df[season_df.month.str.len() <= 12]\n",
    "\n",
    "weights = {} # словарь со списками значений весов по курсам и месяцам {course1: [w1,w2..w12] .. }\n",
    "# создаем столбец, содержащий вес прогресса\n",
    "season_df['weight'] = season_df.month.apply(lambda x: round(1/len(x), 2))\n",
    "# заполняем словарь weights\n",
    "for title in titles:\n",
    "    weights[title] = []\n",
    "    for month in range(1, 12 + 1):\n",
    "        str_month = str(month).zfill(2)\n",
    "        mask = season_df[season_df['course_title'] == title].month.apply(\n",
    "            lambda x: any(month_item[-2:] == str_month for month_item in x)\n",
    "        )\n",
    "        weights[title].append(\n",
    "            round(season_df[season_df['course_title'] == title][mask].weight.sum(), 2)\n",
    "        )\n",
    "print('Распределение прогрессов по курсам и месяцам:\\n')\n",
    "print(weights)\n"
   ]
  },
  {
   "cell_type": "code",
   "execution_count": null,
   "metadata": {
    "pycharm": {
     "is_executing": false,
     "name": "#%%\n"
    }
   },
   "outputs": [],
   "source": [
    "# ЗАДАНИЕ 3.4 (вариант с весами)\n",
    "\n",
    "# инициализируем\n",
    "fig, subplot = plt.subplots()\n",
    "fig.set_size_inches(18, 10)\n",
    "# настраиваем холст\n",
    "subplot.grid(True)\n",
    "plt.xticks(rotation=90, fontsize='10') \n",
    "plt.subplots_adjust(wspace=0.15, hspace=0.45)\n",
    "# # удаляем рамку\n",
    "subplot.spines['top'].set_visible(False)\n",
    "subplot.spines['right'].set_visible(False)\n",
    "subplot.spines['bottom'].set_visible(False)\n",
    "subplot.spines['left'].set_visible(False)\n",
    "# подписываем\n",
    "plt.ylabel(\"Количество прогрессов\", fontsize=14)\n",
    "plt.xlabel(\"Месяц\", fontsize=14)\n",
    "plt.title(\"Распределение прогрессов по курсам и месяцам\", fontsize=20)\n",
    "# ось Х\n",
    "x_values = range(1, 12+1) # значения оси Х\n",
    "plt.xticks(x_values, fontsize='10') \n",
    "# рисуем\n",
    "for index, title in enumerate(titles):\n",
    "    # извлекаем значения оси Y\n",
    "    y_values = weights[title]\n",
    "    # рисуем\n",
    "    subplot.plot(x_values, y_values, label=title)\n",
    "    \n",
    "# добавляем линию медианы по всем курсам\n",
    "median_values = []\n",
    "for month in range(0, 12):\n",
    "    month_median = []\n",
    "    for key in weights.keys():\n",
    "        month_median.append(weights[key][month])\n",
    "    median_values.append(np.median(month_median))\n",
    "subplot.plot(x_values, median_values, color='green', label='Median', linewidth=5)\n",
    "plt.legend(loc='upper right')\n",
    "plt.show()"
   ]
  },
  {
   "cell_type": "markdown",
   "metadata": {
    "pycharm": {
     "name": "#%% md\n"
    }
   },
   "source": [
    "Закономерность стала гораздо лучше прослеживаться. Для удобства я также добавил медиану по всем курсам.\n",
    "\n",
    "## Вывод:\n",
    "## Проблемные модули<br>\n",
    "Проблемными модулями будем считать модули сильно выделяющиеся из всей выборки, неважно в большую или меньшую сторону.<br> \n",
    "Исключением является последний модуль, который, как правило, является курсовой работой и отнимает на выполнение куда больше времени.<br>\n",
    "\n",
    "Проблемные модули:<br>\n",
    "* Java-разботчик - модули 9, 12\n",
    "* Java-разботчик с нуля - модуль 7\n",
    "* SMM маркетолог от А до Я - модули 4, 5\n",
    "* UX дизайн - модули 9, 11, 13\n",
    "* Анимация интерфейсов - моудль 8\n",
    "* Веб-дизайн PRO 2.0 - модули 2, 4, 16\n",
    "* Веб-дизайн Базовый - модуль 17, слишком большое время выполнения (2 месяца)\n",
    "* Вебдизайн с нуля 2.0 - модули 7, 16, 17, 18\n",
    "* Веб рзаработчик - модуль 18, слишком большое время выполнения (3 месяца)\n",
    "* Интернет-маркетолог от Ingate - модули 2, 3, 6, 12, 13, 17\n",
    "* Руководитель digital проектов - модули 4, 15\n",
    "\n",
    "## Сезонность\n",
    "По графику можно сделать следующие выводы:\n",
    "* пик работоспособности приходится на весну и первую половину лета (март - июнь). \n",
    "* со второй половины лета, ближе к осени (июль - сентябрь), следует снижение количества прогрессов более чем в два раза! \n",
    "* с октября происходит постепенный возврат показателей активности."
   ]
  },
  {
   "cell_type": "markdown",
   "metadata": {},
   "source": [
    "## 4. Расчет конверсии\n",
    "\n",
    "1. **(p)** Посчитать конверсию перехода студентов из одного модуля в другой на каждом курсе. Формула: отношение количества студентов, приступивших к выполнению домашнего задания в этом модуле (если дз в модуле несколько, то считать по первому дз в модуле), к количеству студентов, сдавших задание в предыдущем модуле (если дз в модуле несколько, то считать по последнему дз в модуле).\n",
    "2. **(m)** Постройте bar-chart, отражающий конверсию перехода студентов из одного модуля в другой на каждом курсе. График должен иметь заголовок. Ticks нужно развернуть так, чтобы они были читаемы\n",
    "3. **(m)** Постройте горизонтальный (столбцы должны располагаться горизонтально) bar-chart, отражающий конверсию перехода студентов из одного модуля в другой на каждом курсе. 15 графиков. Графики должны иметь заголовки. Ticks должны содержать номер и название модуля. Цвет столбцов графиков должен содержать информацию о сфере, к которой относится курс (нужна легенда). Прозрачность должна стоять на отметке 0.1. На графики должна быть нанесена линия медианы конверсии для каждого курса. У медианы должен быть свой цвет. Рамок у графиков быть не должно ⭐\n",
    "4. На основании рассчитанных значений сделайте аналитический вывод (должен быть полным и покрывать все полученные выше метрики)"
   ]
  },
  {
   "cell_type": "markdown",
   "metadata": {
    "pycharm": {
     "is_executing": false,
     "name": "#%% md\n"
    }
   },
   "source": [
    "## Задание 4"
   ]
  },
  {
   "cell_type": "code",
   "execution_count": null,
   "metadata": {
    "pycharm": {
     "is_executing": false,
     "name": "#%%\n"
    }
   },
   "outputs": [],
   "source": [
    "# ЗАДАНИЕ 4.1 \n",
    "\n",
    "# ФОРМИРУЕМ ДАТАФРЕМЫ started_df и finished_df, содержащие сведения о количестве студентов (начавших и закончивших) по всем модулям\n",
    "\n",
    "# формируем датафрейм с номерами модулей и первых уроков, где есть ДЗ\n",
    "started_df = homeworks_df.iloc[:,1:4].groupby(['course_title', 'module_number']).agg('first').reset_index()\n",
    "# присоединяем к датафрейму данные о всех прогрессах, только по нужным урокам\n",
    "started_df = pd.merge(started_df, homeworks_df.iloc[:,1:4], how='inner', on=['course_title', 'module_number', 'lesson_number'])\n",
    "# продолжаем работу только с прогрессами имеющими статус start или done\n",
    "# started_df = started_df[(started_df.status == 'start') | (started_df.status == 'done')]\n",
    "# started_df.drop(['status', 'student_id'], axis='columns', inplace=True)\n",
    "# считаем количество прогрессов в каждом модуле\n",
    "started_df = started_df.groupby(['course_title', 'module_number']).agg('count').reset_index()\n",
    "started_df.rename(columns={'lesson_number' : 'start_count'}, inplace=True)\n",
    "\n",
    "# формируем датафрейм с номерами модулей и последних уроков, где есть ДЗ\n",
    "finished_df = homeworks_df.iloc[:,1:4].groupby(['course_title', 'module_number']).agg('last').reset_index()\n",
    "# присоединяем к датафрейму данные о всех прогрессах, только по нужным урокам\n",
    "finished_df = pd.merge(finished_df, homeworks_df.iloc[:,1:6], how='inner', on=['course_title', 'module_number', 'lesson_number'])\n",
    "# продолжаем работу только с завершенными прогрессами\n",
    "finished_df = finished_df[finished_df.status == 'done']\n",
    "finished_df.drop(['status', 'student_id'], axis='columns', inplace=True)\n",
    "# считаем количество прогрессов в каждом модуле\n",
    "finished_df = finished_df.groupby(['course_title', 'module_number']).agg('count').reset_index()\n",
    "finished_df.rename(columns={'lesson_number' : 'finish_count'}, inplace=True)\n",
    "# объединяем данные в датафрейм conversion_df (из датафреймов started_df и finished_df)\n",
    "conversion_df = pd.merge(started_df, finished_df, how='outer', on=['course_title', 'module_number'])\n",
    "# заполняем пустые значения нулями\n",
    "conversion_df.fillna(value=0, inplace=True)\n",
    "# формируем словарь conversion_dict, содержащий показатели конверсии по курсам\n",
    "conversion_dict = {}\n",
    "def fill_conversion_dict(group):\n",
    "    \"\"\"заполняет словарь conversion_dict показателями конверсии\"\"\"\n",
    "    conversion_dict[group['course_title'].values[0]] = (group['start_count'].values[1:] / group['finish_count'].values[:-1]) * 100\n",
    "\n",
    "conversion_df.groupby(['course_title']).apply(fill_conversion_dict)\n",
    "\n",
    "# удаляем первый модуль в каждом курсе\n",
    "conversion_df = conversion_df.groupby('course_title').apply(lambda group: group.iloc[1:,1:]).reset_index()\n",
    "# соединяем все показатели конверсии в список, для последующего присоединения к датафрейму\n",
    "conversion_values = [conv for conv_list in conversion_dict.values() for conv in conv_list]\n",
    "# создаем столбец conversion и заполняем значениями списка conversion_values\n",
    "conversion_df['conversion'] = conversion_values\n",
    "# удаляем лишние столбцы\n",
    "conversion_df.drop(['level_1', 'start_count', 'finish_count'], axis='columns', inplace=True)\n",
    "# присоединяем имена моудлей и виды курсов\n",
    "conversion_df = pd.merge(\n",
    "    conversion_df,\n",
    "    courses_df[['course_title', 'module_number', 'module_title', 'course_field']].groupby([\n",
    "     'course_title', 'module_number'\n",
    "    ]).agg('first'),\n",
    "    how='left', on=['course_title', 'module_number']\n",
    ")\n",
    "conversion_df.head(10)"
   ]
  },
  {
   "cell_type": "code",
   "execution_count": null,
   "metadata": {
    "pycharm": {
     "is_executing": false,
     "name": "#%%\n"
    }
   },
   "outputs": [],
   "source": [
    "# ЗАДАНИЕ 4.2\n",
    "\n",
    "subplots = [] # двумерный массив полотен [fig_1[subplots..], fig_2[subplots..]]\n",
    "LIMIT_SUBPLOTS, SHAPE = 8, 42\n",
    "# рисуем графики по 8 штук\n",
    "for fig_number in range(1, math.ceil(len(titles) / LIMIT_SUBPLOTS) + 1 ):\n",
    "    subplots.append([])\n",
    "    # инициализируем\n",
    "    fig = plt.figure()\n",
    "    fig.set_size_inches(18, 20)\n",
    "    for index, title in enumerate(titles[fig_number * LIMIT_SUBPLOTS - LIMIT_SUBPLOTS : LIMIT_SUBPLOTS * fig_number]):\n",
    "        # добавляем и настраиваем холст\n",
    "        subplots[fig_number-1].append(fig.add_subplot(int('{}{}'.format(SHAPE, index + 1))))\n",
    "        subplots[fig_number-1][index].grid(True)\n",
    "        plt.subplots_adjust(wspace=0.15, hspace=0.45)\n",
    "        # извлекаем значения осей \n",
    "        x_values, y_values = [], []\n",
    "        x_values = conversion_df[conversion_df.course_title == title]['module_number'].values\n",
    "        y_values = conversion_df[conversion_df.course_title == title]['conversion'].values\n",
    "\n",
    "        plt.xticks(x_values, fontsize='10') \n",
    "        # подписываем \n",
    "        subplots[fig_number-1][index].set_title(title, fontsize = '20')\n",
    "        subplots[fig_number-1][index].set_ylabel('Показатель конверсии (%)')\n",
    "        subplots[fig_number-1][index].set_xlabel('Номер модуля')\n",
    "\n",
    "        # рисуем\n",
    "        subplots[fig_number-1][index].bar(x_values, y_values, color='green')"
   ]
  },
  {
   "cell_type": "code",
   "execution_count": null,
   "metadata": {
    "pycharm": {
     "is_executing": false,
     "name": "#%%\n"
    }
   },
   "outputs": [],
   "source": [
    "# ЗАДАНИЕ 4.3\n",
    "# Постройте горизонтальный (столбцы должны располагаться горизонтально) bar-chart, отражающий конверсию перехода студентов из одного модуля в другой на каждом курсе. \n",
    "# 15 графиков. Графики должны иметь заголовки. Ticks должны содержать номер и название модуля. Цвет столбцов графиков должен содержать информацию о сфере, \n",
    "# к которой относится курс (нужна легенда). Прозрачность должна стоять на отметке 0.1. На графики должна быть нанесена линия медианы конверсии для каждого курса. \n",
    "# У медианы должен быть свой цвет. Рамок у графиков быть не должно ⭐\n",
    "subplots = [] # двумерный массив полотен [fig_1[subplots..], fig_2[subplots..]]\n",
    "LIMIT_SUBPLOTS, SHAPE = 4, 41\n",
    "# рисуем графики по 8 штук\n",
    "for fig_number in range(1, math.ceil(len(titles) / LIMIT_SUBPLOTS) + 1 ):\n",
    "    subplots.append([])\n",
    "    # инициализируем\n",
    "    fig = plt.figure()\n",
    "    fig.set_size_inches(18, 20)\n",
    "    for index, title in enumerate(titles[fig_number * LIMIT_SUBPLOTS - LIMIT_SUBPLOTS : LIMIT_SUBPLOTS * fig_number]):\n",
    "        # добавляем и настраиваем холст\n",
    "        subplots[fig_number-1].append(fig.add_subplot(int('{}{}'.format(SHAPE, index + 1))))\n",
    "        subplots[fig_number-1][index].grid(True)\n",
    "        plt.subplots_adjust(wspace=0.15, hspace=0.45)\n",
    "        # извлекаем значения осей \n",
    "        x_values, y_values = [], []\n",
    "        x_values = conversion_df[conversion_df.course_title == title]['conversion'].values\n",
    "        y_values = conversion_df[conversion_df.course_title == title]['module_number'].values\n",
    "        course_type = conversion_df[conversion_df.course_title == title]['course_field'].values[0]\n",
    "        # делаем название модулей по оси У\n",
    "        plt.yticks(\n",
    "            y_values,\n",
    "            conversion_df[conversion_df.course_title == title][['module_number', 'module_title']].apply(\n",
    "                lambda x: '{} ({})'.format(x['module_title'], x['module_number']), axis='columns'\n",
    "            ).tolist(),   fontsize='10'\n",
    "        ) \n",
    "        # рисуем медиану \n",
    "        median_value = np.median(x_values)\n",
    "        median_line = plt.axvline(median_value, label='Median')\n",
    "        # выводим текстовое значение медианы\n",
    "        subplots[fig_number-1][index].text(\n",
    "            0.95, 0.5, str(round(median_value, 1)) +'%', color='red', fontsize=14, \n",
    "            transform=subplots[fig_number-1][index].transAxes\n",
    "        )\n",
    "        # подписываем \n",
    "        subplots[fig_number-1][index].set_title(title, fontsize = '20')\n",
    "        subplots[fig_number-1][index].set_xlabel('Показатель конверсии (%)')\n",
    "        # удаляем рамку\n",
    "        subplots[fig_number-1][index].spines['top'].set_visible(False)\n",
    "        subplots[fig_number-1][index].spines['right'].set_visible(False)\n",
    "        subplots[fig_number-1][index].spines['bottom'].set_visible(False)\n",
    "        subplots[fig_number-1][index].spines['left'].set_visible(False)\n",
    "        # рисуем\n",
    "        subplots[fig_number-1][index].barh(y_values, x_values, label=course_type, color=colors[np.where(fields_list == course_type)[0][0]])\n",
    "        # отображаем легенду\n",
    "        plt.legend(loc='lower right')"
   ]
  },
  {
   "cell_type": "code",
   "execution_count": null,
   "metadata": {
    "pycharm": {
     "is_executing": false,
     "name": "#%%\n"
    }
   },
   "outputs": [],
   "source": [
    "# fig, subplot = plt.subplots()\n",
    "# fig.set_size_inches(13, 10)\n",
    "# # готовим данные для графика\n",
    "# fields_list = students_on_course.field.unique()\n",
    "# colors = ['saddlebrown', 'orange', 'green', 'royalblue', 'mediumorchid', 'coral']\n",
    "# y = students_on_course.course_title\n",
    "# x = students_on_course.count_students\n",
    "# # подписи со значением на барах\n",
    "# # for i, v in enumerate(x):\n",
    "# #     subplot.text(v + 10, i - .1, str(v), color='black')\n",
    "# # рисуем бары\n",
    "# for i, item in enumerate(students_on_course.values):\n",
    "#     plt.barh(item[0], item[1], color=colors[np.where(fields_list == item[2])[0][0]])\n",
    "# # делаем  легенду по группам\n",
    "# handles = [mpatches.Patch(color=colors[i], label=field) for i, field in enumerate(fields_list)]\n",
    "# legend1 = plt.legend(handles=handles, loc=4)\n",
    "# # подписи осей\n",
    "# plt.yticks(y, fontsize=14)\n",
    "# plt.xlabel(\"Количество студентов\", fontsize=14)\n",
    "# plt.title(\"Количество студентов на каждом курсе\", fontsize=18)\n",
    "# # рисуем медиану и легенду для нее\n",
    "# median_line = plt.axvline(np.median(x), label='Median')\n",
    "# legend2 = plt.legend([median_line], ['Median'], loc=\"right\")\n",
    "# subplot.add_artist(legend1)\n",
    "# # удаляем рамку\n",
    "# subplot.spines['top'].set_visible(False)\n",
    "# subplot.spines['right'].set_visible(False)\n",
    "# subplot.spines['bottom'].set_visible(False)\n",
    "# subplot.spines['left'].set_visible(False)\n",
    "# \n",
    "# plt.show()"
   ]
  },
  {
   "cell_type": "markdown",
   "metadata": {},
   "source": [
    "## 5. Метрика успеваемости \n",
    "\n",
    "&nbsp;&nbsp;&nbsp;&nbsp;*(необязательное задание)*\n",
    "\n",
    "Иногда студенты берут курсы, которые оказываются для них неподъемными. Это может быть как по причинам недостаточной изначальной подготовки, так и по причинам, связанным с низкой мотивацией студента. Для улучшения качества контента полезно выявить причину. На основании имеющихся данных придумайте метрику успеваемости студента. **Обоснуйте ее.** Выявите таких студентов на каждом курсе, чтобы предоставить продюсерам список проблемных студентов. "
   ]
  },
  {
   "cell_type": "code",
   "execution_count": null,
   "metadata": {
    "pycharm": {
     "is_executing": false
    }
   },
   "outputs": [],
   "source": [
    "# В данных много значений имеющих очень малую (непонятную) разницу между start_date и finish_date.\n",
    "# Поэтому для оценки успешности использовать минимальные значения продолжительности не будем. \n",
    "# Будем считать, что все кто сделал работу быстрее среднего времени - успешные (100%), а максимальное время - неуспешные(0%)\n",
    "\n",
    "LIMIT_RATING = 20 # (0-100%) показать всех студентов, имеющих рейтинг ниже этого значения\n",
    "\n",
    "# берем данные прогрессов только завершенных модулей\n",
    "lessons_df = homeworks_df[homeworks_df.status == 'done'].iloc[:,:-1]\n",
    "# создаем столбец duration, со временем прохождения уроков (в секундах)\n",
    "lessons_df['duration'] = lessons_df[['start_date', 'finish_date']].apply(\n",
    "    lambda x: x['finish_date'] - x['start_date'], axis='columns'\n",
    ")\n",
    "# отсеиваем записи с отрицательными значениями duration (какието системные ошибки)\n",
    "# lessons_df = lessons_df[lessons_df.duration > timedelta(seconds=300)]\n",
    "# конвертим в секунды\n",
    "lessons_df['duration'] = lessons_df['duration'].apply(lambda x: int(x.total_seconds()))\n",
    "\n",
    "lessons_df = lessons_df[['course_title', 'module_number', 'lesson_number', 'duration']].groupby(\n",
    "    ['course_title', 'module_number', 'lesson_number']\n",
    "    ).agg([np.median, 'max']).reset_index()\n",
    "\n",
    "# # убираем мультииндекс\n",
    "lessons_df.columns = [\"_\".join(x) for x in lessons_df.columns.ravel()]\n",
    "lessons_df.rename(columns={'course_title_': 'course_title', 'module_number_':'module_number', 'lesson_number_':'lesson_number'}, inplace=True)\n",
    "\n",
    "# формируем датафрейм содержащий оценки успешности прогрессов (0-100%)\n",
    "metric_df = homeworks_df.iloc[:,:-1]\n",
    "# считаем продолжительность всех работ\n",
    "# если дата завершения не указана, используем текущее время\n",
    "def calc_duration(x):\n",
    "    \"\"\"Считает продолжительность прогресса\"\"\"\n",
    "    if not pd.isnull(x['finish_date']):\n",
    "        return int((x['finish_date'] - x['start_date']).total_seconds())\n",
    "    else:\n",
    "        return int((datetime.today() - x['start_date']).total_seconds())\n",
    "        \n",
    "metric_df['duration'] = metric_df[['start_date', 'finish_date']].apply(calc_duration, axis='columns')\n",
    "\n",
    "                                                                             \n",
    "metric_df = pd.merge(metric_df, lessons_df, how='left', on=['course_title', 'module_number', 'lesson_number'])\n",
    "\n",
    "# считаем рейтинг для каждого прогресса\n",
    "def calc_rating(x):\n",
    "    if x.duration <= x.duration_median:\n",
    "        return 100\n",
    "    elif x.duration >= x.duration_max:\n",
    "        return 0\n",
    "    else:\n",
    "        # считаем  пропорцию ( max-median = 100%, duration = ? )\n",
    "        distance = x.duration_max - x.duration_median\n",
    "        durr = x.duration - x.duration_median\n",
    "        return round(100 - ((x.duration - x.duration_median) * 100) / (x.duration_max - x.duration_median), 2)\n",
    "metric_df['rating'] = metric_df[['duration', 'duration_median', 'duration_max']].apply(calc_rating, axis='columns')\n",
    "# агрегируем рейтинг по среднему арифметическому, чтобы\n",
    "metric_df = metric_df[['course_title', 'student_id', 'rating']].groupby(['course_title', 'student_id']).agg(np.mean)\n",
    "metric_df.sort_values(['course_title', 'rating'], inplace=True)\n",
    "metric_df[metric_df.rating <= LIMIT_RATING ]\n"
   ]
  }
 ],
 "metadata": {
  "kernelspec": {
   "display_name": "Python 3",
   "language": "python",
   "name": "python3"
  },
  "language_info": {
   "codemirror_mode": {
    "name": "ipython",
    "version": 3
   },
   "file_extension": ".py",
   "mimetype": "text/x-python",
   "name": "python",
   "nbconvert_exporter": "python",
   "pygments_lexer": "ipython3",
   "version": "3.7.3"
  },
  "pycharm": {
   "stem_cell": {
    "cell_type": "raw",
    "metadata": {
     "collapsed": false
    },
    "source": []
   }
  }
 },
 "nbformat": 4,
 "nbformat_minor": 2
}
